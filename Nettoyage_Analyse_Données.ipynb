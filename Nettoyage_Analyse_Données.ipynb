{
  "nbformat": 4,
  "nbformat_minor": 0,
  "metadata": {
    "colab": {
      "provenance": [],
      "authorship_tag": "ABX9TyMlJ09kLOSTA0XjkwK5DduA",
      "include_colab_link": true
    },
    "kernelspec": {
      "name": "python3",
      "display_name": "Python 3"
    },
    "language_info": {
      "name": "python"
    }
  },
  "cells": [
    {
      "cell_type": "markdown",
      "metadata": {
        "id": "view-in-github",
        "colab_type": "text"
      },
      "source": [
        "<a href=\"https://colab.research.google.com/github/malik630/Nettoyage-et-analyse-des-donn-es/blob/main/Nettoyage_Analyse_Donn%C3%A9es.ipynb\" target=\"_parent\"><img src=\"https://colab.research.google.com/assets/colab-badge.svg\" alt=\"Open In Colab\"/></a>"
      ]
    },
    {
      "cell_type": "code",
      "execution_count": null,
      "metadata": {
        "colab": {
          "base_uri": "https://localhost:8080/"
        },
        "id": "33WR8Lf143In",
        "outputId": "1fc3c845-333c-4cce-8c70-07956a813e59"
      },
      "outputs": [
        {
          "output_type": "stream",
          "name": "stdout",
          "text": [
            "prenom            0\n",
            "email             0\n",
            "date_naissance    1\n",
            "pays              1\n",
            "taille            0\n",
            "dtype: int64\n"
          ]
        }
      ],
      "source": [
        "# import des librairies dont nous aurons besoin\n",
        "import pandas as pd\n",
        "import numpy as np\n",
        "import re\n",
        "\n",
        "# chargement et affichage des données\n",
        "data = pd.read_csv('personnes.csv')\n",
        "#print(data)\n",
        "print(data.isnull().sum())\n",
        "#data.loc[data['email'].duplicated(keep=False),:]\n"
      ]
    },
    {
      "cell_type": "markdown",
      "metadata": {
        "id": "4515b242"
      },
      "source": [
        "Pour installer des bibliothèques Python, vous pouvez utiliser `pip`, le gestionnaire de paquets par défaut pour Python. Ouvrez un nouveau bloc de code et utilisez la commande suivante :"
      ]
    }
  ]
}